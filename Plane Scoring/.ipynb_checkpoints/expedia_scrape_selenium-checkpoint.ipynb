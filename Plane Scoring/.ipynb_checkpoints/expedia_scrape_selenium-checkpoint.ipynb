{
 "cells": [
  {
   "cell_type": "code",
   "execution_count": 2,
   "metadata": {},
   "outputs": [
    {
     "ename": "ModuleNotFoundError",
     "evalue": "No module named 'splinter'",
     "output_type": "error",
     "traceback": [
      "\u001b[0;31m---------------------------------------------------------------------------\u001b[0m",
      "\u001b[0;31mModuleNotFoundError\u001b[0m                       Traceback (most recent call last)",
      "\u001b[0;32m<ipython-input-2-65371c3f1d48>\u001b[0m in \u001b[0;36m<module>\u001b[0;34m\u001b[0m\n\u001b[1;32m      3\u001b[0m \u001b[0;32mimport\u001b[0m \u001b[0mpandas\u001b[0m \u001b[0;32mas\u001b[0m \u001b[0mpd\u001b[0m\u001b[0;34m\u001b[0m\u001b[0;34m\u001b[0m\u001b[0m\n\u001b[1;32m      4\u001b[0m \u001b[0;32mimport\u001b[0m \u001b[0mrequests\u001b[0m\u001b[0;34m\u001b[0m\u001b[0;34m\u001b[0m\u001b[0m\n\u001b[0;32m----> 5\u001b[0;31m \u001b[0;32mfrom\u001b[0m \u001b[0msplinter\u001b[0m \u001b[0;32mimport\u001b[0m \u001b[0mBrowser\u001b[0m\u001b[0;34m\u001b[0m\u001b[0;34m\u001b[0m\u001b[0m\n\u001b[0m",
      "\u001b[0;31mModuleNotFoundError\u001b[0m: No module named 'splinter'"
     ]
    }
   ],
   "source": [
    "#Importing packages\n",
    "from selenium import webdriver\n",
    "import pandas as pd\n",
    "import requests\n",
    "import splinter\n",
    "from splinter import Browser"
   ]
  },
  {
   "cell_type": "code",
   "execution_count": 2,
   "metadata": {},
   "outputs": [],
   "source": [
    "driver = webdriver.Chrome('c:/Users/chromedriver.exe')"
   ]
  },
  {
   "cell_type": "code",
   "execution_count": 4,
   "metadata": {},
   "outputs": [],
   "source": [
    "driver.get('https://www.expedia.com/Flights-Search?trip=oneway&leg1=from:bna,to:sea,departure:02/01/2020TANYT&passengers=adults:1,children:0,seniors:0,infantinlap:Y&options=cabinclass%3Aeconomy&mode=search&origref=www.expedia.com')"
   ]
  },
  {
   "cell_type": "code",
   "execution_count": 9,
   "metadata": {},
   "outputs": [
    {
     "data": {
      "text/plain": [
       "'Result 1 when sorted by price, $194\\nExpedia Bargain Fare\\nGet the flight now and flight details after booking. This is a special fare with restrictions. Look for details in checkout. Airline and flight time revealed after purchase.\\nSelect to reveal our lowest price!\\nSelect\\nSelect result 1 when sorted by price\\nResult 2 when sorted by price, $324\\n7:32am\\n- 7:59pm\\nAmerican Airlines\\nPoor Flights (1.6/10)\\n14h 27m (2 stops)\\nAvailable amenities\\nWi-Fi and Entertainment information\\nDeparture airport:\\nBNA - CLT - PHX\\nArrival airport:\\n- SEA\\n$324\\none way\\nFree cancel within 24 hrs\\nFree Cancel w/in 24 hrs\\nSelect\\nSelect result 2 when sorted by price\\nDetails & baggage fees \\nDetails and baggage fees for result 2\\nRules and restrictions apply\\nResult 2.\\nResult 3 when sorted by price, $324\\n7:32am\\n- 7:59pm\\nAmerican Airlines\\nPoor Flights (1.6/10)\\n14h 27m (2 stops)\\nAvailable amenities\\nWi-Fi and Entertainment information\\nDeparture airport:\\nBNA - CLT - PHX\\nArrival airport:\\n- SEA\\n$324\\none way\\nFree cancel within 24 hrs\\nFree Cancel w/in 24 hrs\\nSelect\\nSelect result 3 when sorted by price\\nDetails & baggage fees \\nDetails and baggage fees for result 3\\nRules and restrictions apply\\nResult 3.\\nResult 4 when sorted by price, $324\\n5:23am\\n- 7:59pm\\nAmerican Airlines\\nPoor Flights (1.6/10)\\n16h 36m (2 stops)\\nAvailable amenities\\nWi-Fi, Entertainment, and Power information\\nDeparture airport:\\nBNA - CLT - PHX\\nArrival airport:\\n- SEA\\n$324\\none way\\nFree cancel within 24 hrs\\nFree Cancel w/in 24 hrs\\nSelect\\nSelect result 4 when sorted by price\\nDetails & baggage fees \\nDetails and baggage fees for result 4\\nRules and restrictions apply\\nResult 4.\\nResult 5 when sorted by price, $326\\n7:29am\\n- 7:59pm\\nAmerican Airlines\\nPoor Flights (1.6/10)\\n14h 30m (2 stops)\\nAvailable amenities\\nWi-Fi, Entertainment, and Power information\\nDeparture airport:\\nBNA - LAX - PHX\\nArrival airport:\\n- SEA\\n$326\\none way\\nFree cancel within 24 hrs\\nFree Cancel w/in 24 hrs\\nSelect\\nSelect result 5 when sorted by price\\nDetails & baggage fees \\nDetails and baggage fees for result 5\\nRules and restrictions apply\\nResult 5.\\nResult 6 when sorted by price, $330\\n5:23am\\n- 7:59pm\\nAmerican Airlines\\nPoor Flights (1.6/10)\\n16h 36m (2 stops)\\nAvailable amenities\\nWi-Fi, Entertainment, and Power information\\nDeparture airport:\\nBNA - CLT - PHX\\nArrival airport:\\n- SEA\\n$330\\none way\\nFree cancel within 24 hrs\\nFree Cancel w/in 24 hrs\\nSelect\\nSelect result 6 when sorted by price\\nDetails & baggage fees \\nDetails and baggage fees for result 6\\nRules and restrictions apply\\nResult 6.\\nResult 7 when sorted by price, $360\\n8:50am\\n- 11:59pm\\nSpirit Airlines\\nPoor Flights (1.4/10)\\n17h 9m (2 stops)\\nDeparture airport:\\nBNA - MSY - LAS\\nArrival airport:\\n- SEA\\n$360\\none way\\nSelect\\nSelect result 7 when sorted by price\\nDetails & baggage fees \\nDetails and baggage fees for result 7\\nRules and restrictions apply\\nResult 7.\\nResult 8 when sorted by price, $381\\n11:43am\\n- 7:59pm\\nAmerican Airlines\\nPoor Flights (3.8/10)\\n10h 16m (2 stops)\\nAvailable amenities\\nWi-Fi, Entertainment, and Power information\\nDeparture airport:\\nBNA - DFW - PHX\\nArrival airport:\\n- SEA\\nAmerican Airlines 4235 operated by Envoy Air As American Eagle\\n2 left at $381\\none way\\nFree cancel within 24 hrs\\nFree Cancel w/in 24 hrs\\nSelect\\nSelect result 8 when sorted by price\\nDetails & baggage fees \\nDetails and baggage fees for result 8\\nResult 9 when sorted by price, $381\\n7:18am\\n- 7:59pm\\nAmerican Airlines\\nPoor Flights (1.6/10)\\n14h 41m (2 stops)\\nAvailable amenities\\nWi-Fi, Entertainment, and Power information\\nDeparture airport:\\nBNA - DFW - PHX\\nArrival airport:\\n- SEA\\n2 left at $381\\none way\\nFree cancel within 24 hrs\\nFree Cancel w/in 24 hrs\\nSelect\\nSelect result 9 when sorted by price\\nDetails & baggage fees \\nDetails and baggage fees for result 9\\nResult 10 when sorted by price, $381\\n7:18am\\n- 7:59pm\\nAmerican Airlines\\nPoor Flights (1.6/10)\\n14h 41m (2 stops)\\nAvailable amenities\\nWi-Fi, Entertainment, and Power information\\nDeparture airport:\\nBNA - DFW - PHX\\nArrival airport:\\n- SEA\\n2 left at $381\\none way\\nFree cancel within 24 hrs\\nFree Cancel w/in 24 hrs\\nSelect\\nSelect result 10 when sorted by price\\nDetails & baggage fees \\nDetails and baggage fees for result 10\\nResult 11 when sorted by price, $387\\n5:29am\\n- 7:59pm\\nAmerican Airlines\\nPoor Flights (1.6/10)\\n16h 30m (2 stops)\\nAvailable amenities\\nWi-Fi, Entertainment, and Power information\\nDeparture airport:\\nBNA - DFW - PHX\\nArrival airport:\\n- SEA\\n2 left at $387\\none way\\nFree cancel within 24 hrs\\nFree Cancel w/in 24 hrs\\nSelect\\nSelect result 11 when sorted by price\\nDetails & baggage fees \\nDetails and baggage fees for result 11\\nResult 12 when sorted by price, $399\\n7:15am\\n- 10:33am\\nDelta\\nExcellent Flights (8.5/10)\\n5h 18m (Nonstop)\\nAvailable amenities\\nWi-Fi, Entertainment, and Power information\\nDeparture airport:\\nBNA -\\nArrival airport:\\nSEA\\n$399\\none way\\nFree cancel within 24 hrs\\nFree Cancel w/in 24 hrs\\nSelect\\nSelect result 12 when sorted by price\\nDetails & baggage fees \\nDetails and baggage fees for result 12\\nResult 13 when sorted by price, $399\\n5:40pm\\n- 8:59pm\\nAlaska Airlines\\nVery Good Flights (8.3/10)\\n5h 19m (Nonstop)\\nAvailable amenities\\nWi-Fi, Entertainment, and Power information\\nDeparture airport:\\nBNA -\\nArrival airport:\\nSEA\\n$399\\none way\\nFree cancel within 24 hrs\\nFree Cancel w/in 24 hrs\\nSelect\\nSelect result 13 when sorted by price\\nDetails & baggage fees \\nDetails and baggage fees for result 13\\nResult 14 when sorted by price, $408\\n4:50pm\\n- 9:56pm\\nDelta\\nGood Flights (7.3/10)\\n7h 6m (1 stop)\\nAvailable amenities\\nWi-Fi, Entertainment, and Power information\\nDeparture airport:\\nBNA - 53m in SLC\\nLayover 53m in SLC\\nArrival airport:\\n- SEA\\n3 left at $408\\none way\\nFree cancel within 24 hrs\\nFree Cancel w/in 24 hrs\\nSelect\\nSelect result 14 when sorted by price\\nDetails & baggage fees \\nDetails and baggage fees for result 14\\nAd\\nRun Nashville - Seattle on Feb 1 on these travel sites:\\nSelect All\\nGO\\nNashville - Seattle Feb 1 1 Traveler\\nResult 15 when sorted by price, $408\\n5:30am\\n- 10:38am\\nDelta\\nGood Flights (7.2/10)\\n7h 8m (1 stop)\\nAvailable amenities\\nWi-Fi, Entertainment, and Power information\\nDeparture airport:\\nBNA - 1h in MSP\\nLayover 1h in MSP\\nArrival airport:\\n- SEA\\n5 left at $408\\none way\\nFree cancel within 24 hrs\\nFree Cancel w/in 24 hrs\\nSelect\\nSelect result 15 when sorted by price\\nDetails & baggage fees \\nDetails and baggage fees for result 15\\nResult 16 when sorted by price, $408\\n12:35pm\\n- 5:47pm\\nUnited\\nSatisfactory Flights (6.5/10)\\n7h 12m (1 stop)\\nAvailable amenities\\nWi-Fi and Entertainment information\\nDeparture airport:\\nBNA - 41m in DEN\\nLayover 41m in DEN\\nArrival airport:\\n- SEA\\nUnited 4604 operated by Trans States Airlines DBA United Expre\\n2 left at $408\\none way\\nFree cancel within 24 hrs\\nFree Cancel w/in 24 hrs\\nSelect\\nSelect result 16 when sorted by price\\nDetails & baggage fees \\nDetails and baggage fees for result 16\\nResult 17 when sorted by price, $408\\n6:15am\\n- 11:30am\\nUnited\\nSatisfactory Flights (6.9/10)\\n7h 15m (1 stop)\\nAvailable amenities\\nWi-Fi, Entertainment, and Power information\\nDeparture airport:\\nBNA - 40m in DEN\\nLayover 40m in DEN\\nArrival airport:\\n- SEA\\nUnited 5816 operated by Skywest DBA United Express\\n$408\\none way\\nFree cancel within 24 hrs\\nFree Cancel w/in 24 hrs\\nSelect\\nSelect result 17 when sorted by price\\nDetails & baggage fees \\nDetails and baggage fees for result 17\\nResult 18 when sorted by price, $408\\n6:00am\\n- 11:18am\\nDelta\\nGood Flights (7.2/10)\\n7h 18m (1 stop)\\nAvailable amenities\\nWi-Fi, Entertainment, and Power information\\nDeparture airport:\\nBNA - 54m in SLC\\nLayover 54m in SLC\\nArrival airport:\\n- SEA\\n$408\\none way\\nFree cancel within 24 hrs\\nFree Cancel w/in 24 hrs\\nSelect\\nSelect result 18 when sorted by price\\nDetails & baggage fees \\nDetails and baggage fees for result 18\\nResult 19 when sorted by price, $408\\n7:10am\\n- 12:44pm\\nAmerican Airlines\\nGood Flights (7/10)\\n7h 34m (1 stop)\\nAvailable amenities\\nWi-Fi, Entertainment, and Power information\\nDeparture airport:\\nBNA - 47m in ORD\\nLayover 47m in ORD\\nArrival airport:\\n- SEA\\nAmerican Airlines 3211 operated by Skywest Airlines As American Eagle\\n$408\\none way\\nFree cancel within 24 hrs\\nFree Cancel w/in 24 hrs\\nSelect\\nSelect result 19 when sorted by price\\nDetails & baggage fees \\nDetails and baggage fees for result 19\\nResult 20 when sorted by price, $408\\n7:18am\\n- 12:58pm\\nAmerican Airlines\\nGood Flights (7.1/10)\\n7h 40m (1 stop)\\nAvailable amenities\\nWi-Fi, Entertainment, and Power information\\nDeparture airport:\\nBNA - 45m in DFW\\nLayover 45m in DFW\\nArrival airport:\\n- SEA\\n$408\\none way\\nFree cancel within 24 hrs\\nFree Cancel w/in 24 hrs\\nSelect\\nSelect result 20 when sorted by price\\nDetails & baggage fees \\nDetails and baggage fees for result 20\\nResult 21 when sorted by price, $408\\n5:29am\\n- 11:18am\\nAmerican Airlines\\nSatisfactory Flights (6.7/10)\\n7h 49m (1 stop)\\nAvailable amenities\\nWi-Fi, Entertainment, and Power information\\nDeparture airport:\\nBNA - 56m in DFW\\nLayover 56m in DFW\\nArrival airport:\\n- SEA\\n$408\\none way\\nFree cancel within 24 hrs\\nFree Cancel w/in 24 hrs\\nSelect\\nSelect result 21 when sorted by price\\nDetails & baggage fees \\nDetails and baggage fees for result 21\\nResult 22 when sorted by price, $408\\n4:45pm\\n- 10:40pm\\nUnited\\nSatisfactory Flights (6.7/10)\\n7h 55m (1 stop)\\nAvailable amenities\\nWi-Fi, Entertainment, and Power information\\nDeparture airport:\\nBNA - 1h 13m in ORD\\nLayover 1h 13m in ORD\\nArrival airport:\\n- SEA\\nUnited 5822 operated by Skywest DBA United Express\\n$408\\none way\\nFree cancel within 24 hrs\\nFree Cancel w/in 24 hrs\\nSelect\\nSelect result 22 when sorted by price\\nDetails & baggage fees \\nDetails and baggage fees for result 22\\nResult 23 when sorted by price, $408\\n6:20am\\n- 12:34pm\\nUnited\\nSatisfactory Flights (6.3/10)\\n8h 14m (1 stop)\\nAvailable amenities\\nWi-Fi and Entertainment information\\nDeparture airport:\\nBNA - 44m in IAH\\nLayover 44m in IAH\\nArrival airport:\\n- SEA\\nUnited 6032 operated by Mesa Airlines DBA United Express\\n$408\\none way\\nFree cancel within 24 hrs\\nFree Cancel w/in 24 hrs\\nSelect\\nSelect result 23 when sorted by price\\nDetails & baggage fees \\nDetails and baggage fees for result 23\\nResult 24 when sorted by price, $408\\n7:16am\\n- 1:41pm\\nUnited\\nSatisfactory Flights (6.3/10)\\n8h 25m (1 stop)\\nAvailable amenities\\nWi-Fi and Entertainment information\\nDeparture airport:\\nBNA - 1h 34m in ORD\\nLayover 1h 34m in ORD\\nArrival airport:\\n- SEA\\nUnited 5906 operated by Skywest DBA United Express\\n$408\\none way\\nFree cancel within 24 hrs\\nFree Cancel w/in 24 hrs\\nSelect\\nSelect result 24 when sorted by price\\nDetails & baggage fees \\nDetails and baggage fees for result 24\\nResult 25 when sorted by price, $408\\n6:00am\\n- 12:29pm\\nDelta\\nSatisfactory Flights (6.7/10)\\n8h 29m (1 stop)\\nAvailable amenities\\nWi-Fi, Entertainment, and Power information\\nDeparture airport:\\nBNA - 2h 7m in SLC\\nLayover 2h 7m in SLC\\nArrival airport:\\n- SEA\\n$408\\none way\\nFree cancel within 24 hrs\\nFree Cancel w/in 24 hrs\\nSelect\\nSelect result 25 when sorted by price\\nDetails & baggage fees \\nDetails and baggage fees for result 25\\nResult 26 when sorted by price, $408\\n5:29am\\n- 12:58pm\\nAmerican Airlines\\nSatisfactory Flights (6.2/10)\\n9h 29m (1 stop)\\nAvailable amenities\\nWi-Fi, Entertainment, and Power information\\nDeparture airport:\\nBNA - 2h 36m in DFW\\nLayover 2h 36m in DFW\\nArrival airport:\\n- SEA\\n$408\\none way\\nFree cancel within 24 hrs\\nFree Cancel w/in 24 hrs\\nSelect\\nSelect result 26 when sorted by price\\nDetails & baggage fees \\nDetails and baggage fees for result 26\\nResult 27 when sorted by price, $408\\n5:30am\\n- 1:09pm\\nDelta\\nSatisfactory Flights (6.1/10)\\n9h 39m (1 stop)\\nAvailable amenities\\nWi-Fi, Entertainment, and Power information\\nDeparture airport:\\nBNA - 3h 35m in MSP\\nLayover 3h 35m in MSP\\nArrival airport:\\n- SEA\\n4 left at $408\\none way\\nFree cancel within 24 hrs\\nFree Cancel w/in 24 hrs\\nSelect\\nSelect result 27 when sorted by price\\nDetails & baggage fees \\nDetails and baggage fees for result 27\\nResult 28 when sorted by price, $408\\n12:00pm\\n- 7:52pm\\nDelta\\nFair Flights (5.9/10)\\n9h 52m (1 stop)\\nAvailable amenities\\nWi-Fi, Entertainment, and Power information\\nDeparture airport:\\nBNA - 3h 45m in MSP\\nLayover 3h 45m in MSP\\nArrival airport:\\n- SEA\\nDelta 4935 operated by Endeavor Air DBA Delta Connection\\n3 left at $408\\none way\\nFree cancel within 24 hrs\\nFree Cancel w/in 24 hrs\\nSelect\\nSelect result 28 when sorted by price\\nDetails & baggage fees \\nDetails and baggage fees for result 28\\nResult 29 when sorted by price, $408\\n11:35am\\n- 8:26pm\\nUnited\\nFair Flights (5.1/10)\\n10h 51m (1 stop)\\nAvailable amenities\\nWi-Fi, Entertainment, and Power information\\nDeparture airport:\\nBNA - 2h in EWR\\nLayover 2h in EWR\\nArrival airport:\\n- SEA\\nUnited 3972 operated by Expressjet Airlines DBA United Express\\n5 left at $408\\none way\\nFree cancel within 24 hrs\\nFree Cancel w/in 24 hrs\\nSelect\\nSelect result 29 when sorted by price\\nDetails & baggage fees \\nDetails and baggage fees for result 29\\nResult 30 when sorted by price, $408\\n12:30pm\\n- 9:58pm\\nDelta\\nPoor Flights (4.9/10)\\n11h 28m (1 stop)\\nAvailable amenities\\nWi-Fi, Entertainment, and Power information\\nDeparture airport:\\nBNA - 2h 45m in JFK\\nLayover 2h 45m in JFK\\nArrival airport:\\n- SEA\\nDelta 5614 operated by Republic Airways Delta Connection\\n4 left at $408\\none way\\nFree cancel within 24 hrs\\nFree Cancel w/in 24 hrs\\nSelect\\nSelect result 30 when sorted by price\\nDetails & baggage fees \\nDetails and baggage fees for result 30\\nResult 31 when sorted by price, $449\\n4:50pm\\n- 6:45am +1\\nFlight spans 1 day\\nDelta\\nPoor Flights (1.7/10)\\n15h 55m (2 stops)\\nAvailable amenities\\nWi-Fi, Entertainment, and Power information\\nDeparture airport:\\nBNA - SLC - EUG\\nArrival airport:\\n- SEA\\nDelta 3631 and 4135 operated by Skywest DBA Delta Connection\\n1 left at $449\\none way\\nFree cancel within 24 hrs\\nFree Cancel w/in 24 hrs\\nSelect\\nSelect result 31 when sorted by price\\nDetails & baggage fees \\nDetails and baggage fees for result 31\\nResult 32 when sorted by price, $458\\n3:45pm\\n- 9:22pm\\nUnited\\nSatisfactory Flights (6.7/10)\\n7h 37m (1 stop)\\nAvailable amenities\\nWi-Fi, Entertainment, and Power information\\nDeparture airport:\\nBNA - 1h 2m in DEN\\nLayover 1h 2m in DEN\\nArrival airport:\\n- SEA\\nUnited 5244 operated by Skywest DBA United Express\\n1 left at $458\\none way\\nFree cancel within 24 hrs\\nFree Cancel w/in 24 hrs\\nSelect\\nSelect result 32 when sorted by price\\nDetails & baggage fees \\nDetails and baggage fees for result 32\\nResult 33 when sorted by price, $558\\n11:59am\\n- 5:59pm\\nDelta\\nSatisfactory Flights (6.9/10)\\n8h 0m (1 stop)\\nAvailable amenities\\nWi-Fi, Entertainment, and Power information\\nDeparture airport:\\nBNA - 1h 21m in DTW\\nLayover 1h 21m in DTW\\nArrival airport:\\n- SEA\\n1 left at $558\\none way\\nFree cancel within 24 hrs\\nFree Cancel w/in 24 hrs\\nSelect\\nSelect result 33 when sorted by price\\nDetails & baggage fees \\nDetails and baggage fees for result 33\\nResult 34 when sorted by price, $665\\n9:53am\\n- 10:29pm\\nJetBlue Airways\\nPoor Flights (3.7/10)\\n14h 36m (1 stop)\\nAvailable amenities\\nWi-Fi, Entertainment, and Power information\\nDeparture airport:\\nBNA - 5h 38m in BOS\\nLayover 5h 38m in BOS\\nArrival airport:\\n- SEA\\n$665\\none way\\nFree cancel within 24 hrs\\nFree Cancel w/in 24 hrs\\nSelect\\nSelect result 34 when sorted by price\\nDetails & baggage fees \\nDetails and baggage fees for result 34\\nResult 35 when sorted by price, $1,308\\n8:35am\\n- 2:38pm\\nDelta\\nSatisfactory Flights (6.9/10)\\n8h 3m (1 stop)\\nAvailable amenities\\nWi-Fi, Entertainment, and Power information\\nDeparture airport:\\nBNA - 1h 21m in DTW\\nLayover 1h 21m in DTW\\nArrival airport:\\n- SEA\\n3 left at $1,308\\none way\\nFree cancel within 24 hrs\\nFree Cancel w/in 24 hrs\\nSelect\\nSelect result 35 when sorted by price\\nDetails & baggage fees \\nDetails and baggage fees for result 35\\nResult 36 when sorted by price, $1,308\\n1:00pm\\n- 7:15pm\\nDelta\\nSatisfactory Flights (6.7/10)\\n8h 15m (1 stop)\\nAvailable amenities\\nWi-Fi, Entertainment, and Power information\\nDeparture airport:\\nBNA - 1h 30m in ATL\\nLayover 1h 30m in ATL\\nArrival airport:\\n- SEA\\n$1,308\\none way\\nFree cancel within 24 hrs\\nFree Cancel w/in 24 hrs\\nSelect\\nSelect result 36 when sorted by price\\nDetails & baggage fees \\nDetails and baggage fees for result 36\\nResult 37 when sorted by price, $1,308\\n3:30pm\\n- 9:47pm\\nDelta\\nSatisfactory Flights (6.5/10)\\n8h 17m (1 stop)\\nAvailable amenities\\nWi-Fi, Entertainment, and Power information\\nDeparture airport:\\nBNA - 1h 31m in ATL\\nLayover 1h 31m in ATL\\nArrival airport:\\n- SEA\\n4 left at $1,308\\none way\\nFree cancel within 24 hrs\\nFree Cancel w/in 24 hrs\\nSelect\\nSelect result 37 when sorted by price\\nDetails & baggage fees \\nDetails and baggage fees for result 37\\nResult 38 when sorted by price, $1,308\\n10:56am\\n- 7:15pm\\nDelta\\nFair Flights (5.7/10)\\n10h 19m (1 stop)\\nAvailable amenities\\nWi-Fi, Entertainment, and Power information\\nDeparture airport:\\nBNA - 3h 35m in ATL\\nLayover 3h 35m in ATL\\nArrival airport:\\n- SEA\\n$1,308\\none way\\nFree cancel within 24 hrs\\nFree Cancel w/in 24 hrs\\nSelect\\nSelect result 38 when sorted by price\\nDetails & baggage fees \\nDetails and baggage fees for result 38\\nResult 39 when sorted by price, $1,308\\n1:00pm\\n- 9:47pm\\nDelta\\nFair Flights (5.2/10)\\n10h 47m (1 stop)\\nAvailable amenities\\nWi-Fi, Entertainment, and Power information\\nDeparture airport:\\nBNA - 4h in ATL\\nLayover 4h in ATL\\nArrival airport:\\n- SEA\\n$1,308\\none way\\nFree cancel within 24 hrs\\nFree Cancel w/in 24 hrs\\nSelect\\nSelect result 39 when sorted by price\\nDetails & baggage fees \\nDetails and baggage fees for result 39'"
      ]
     },
     "execution_count": 9,
     "metadata": {},
     "output_type": "execute_result"
    }
   ],
   "source": [
    "userid_element = driver.find_elements_by_xpath('/html/body/div[2]/div[8]/section/div/div[10]/ul')[0]\n",
    "#userid_element = driver.find_elements_by_xpath('//script[@id='cachedResultsJson']//text()'\n",
    "userid = userid_element.text\n",
    "userid"
   ]
  },
  {
   "cell_type": "code",
   "execution_count": null,
   "metadata": {},
   "outputs": [],
   "source": [
    "flights = pd.DataFrame(columns = ['Date','Airline','Depart_time', 'Arr_time', 'No_stops', 'Depart_apt', 'Arr_apt', 'Price']) \n",
    "\n",
    "ids = driver.find_elements_by_xpath('/html/body/div[2]/div[8]/section/div/div[10]/ul')[0]\n",
    "flight_ids = []\n",
    "for i in ids:\n",
    "    flight_ids.append(i.get_attribute('id'))\n",
    "\n",
    "for x in flight_ids:\n",
    "    #Extract dates from for each user on a page\n",
    "    user_date = driver.find_elements_by_xpath('//*[@id=\"' + x +'\"]/div/div[2]/div[2]/span[1]/a/time')[0]\n",
    "    date = user_date.get_attribute('title')\n",
    "\n",
    "    #Extract user ids from each user on a page\n",
    "    userid_element = driver.find_elements_by_xpath('//*[@id=\"' + x +'\"]/div/div[2]/div[1]/span[1]/a[2]')[0]\n",
    "    userid = userid_element.text\n",
    "\n",
    "    #Extract Message for each user on a page\n",
    "    user_message = driver.find_elements_by_xpath('//*[@id=\"' + x +'\"]/div/div[3]/div/div[1]')[0]\n",
    "    comment = user_message.text\n",
    "                                   \n",
    "    #Adding date, userid and comment for each user in a dataframe    \n",
    "    comments.loc[len(comments)] = [date,userid,comment]"
   ]
  }
 ],
 "metadata": {
  "kernelspec": {
   "display_name": "Python 3",
   "language": "python",
   "name": "python3"
  },
  "language_info": {
   "codemirror_mode": {
    "name": "ipython",
    "version": 3
   },
   "file_extension": ".py",
   "mimetype": "text/x-python",
   "name": "python",
   "nbconvert_exporter": "python",
   "pygments_lexer": "ipython3",
   "version": "3.6.9"
  }
 },
 "nbformat": 4,
 "nbformat_minor": 2
}
