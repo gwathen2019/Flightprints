{
 "cells": [
  {
   "cell_type": "code",
   "execution_count": 1,
   "metadata": {},
   "outputs": [],
   "source": [
    "import json\n",
    "import requests\n",
    "from lxml import html\n",
    "from collections import OrderedDict\n",
    "import argparse"
   ]
  },
  {
   "cell_type": "code",
   "execution_count": 6,
   "metadata": {},
   "outputs": [
    {
     "ename": "SyntaxError",
     "evalue": "unexpected EOF while parsing (<ipython-input-6-7b941d3b88f9>, line 16)",
     "output_type": "error",
     "traceback": [
      "\u001b[1;36m  File \u001b[1;32m\"<ipython-input-6-7b941d3b88f9>\"\u001b[1;36m, line \u001b[1;32m16\u001b[0m\n\u001b[1;33m    \u001b[0m\n\u001b[1;37m    ^\u001b[0m\n\u001b[1;31mSyntaxError\u001b[0m\u001b[1;31m:\u001b[0m unexpected EOF while parsing\n"
     ]
    }
   ],
   "source": [
    "def parse(source,destination,date):\n",
    "    for i in range(5):\n",
    "        try:\n",
    "            #https://www.expedia.com/Flights-Search?flight-type=on&starDate=03%2F01%2F2020&endDate=03%2F01%2F2020&mode=search&trip=roundtrip&leg1=from%3ANashville%2C+TN+%28BNA-Nashville+Intl.%29%2Cto%3ASeattle%2C+WA+%28SEA-All+Airports%29%2Cdeparture%3A03%2F01%2F2020TANYT&leg2=from%3ASeattle%2C+WA+%28SEA-All+Airports%29%2Cto%3ANashville%2C+TN+%28BNA-Nashville+Intl.%29%2Cdeparture%3A03%2F01%2F2020TANYT&passengers=children%3A0%2Cadults%3A1%2Cseniors%3A0%2Cinfantinlap%3AY&fareCalendarPrice=\n",
    "\n",
    "            url = \"https://www.expedia.com/Flights-Search?trip=oneway&leg1=from:{0},to:{1},departure:{2}TANYT&passengers=adults:1,children:0,seniors:0,infantinlap:Y&options=cabinclass%3Aeconomy&mode=search&origref=www.expedia.com\".format(source,destination,date)\n",
    "            headers = {'User-Agent': 'Mozilla/5.0 (Windows NT 10.0; Win64; x64) AppleWebKit/537.36 (KHTML, like Gecko) Chrome/70.0.3538.77 Safari/537.36'}\n",
    "            response = requests.get(url, headers=headers, verify=False)\n",
    "            parser = html.fromstring(response.text)\n",
    "            json_data_xpath = parser.xpath(\"//script[@id='cachedResultsJson']//text()\")\n",
    "            raw_json =json.loads(json_data_xpath[0] if json_data_xpath else '')\n",
    "            flight_data = json.loads(raw_json[\"content\"])\n",
    "            "
   ]
  },
  {
   "cell_type": "code",
   "execution_count": 8,
   "metadata": {},
   "outputs": [
    {
     "ename": "IndentationError",
     "evalue": "unindent does not match any outer indentation level (<tokenize>, line 68)",
     "output_type": "error",
     "traceback": [
      "\u001b[1;36m  File \u001b[1;32m\"<tokenize>\"\u001b[1;36m, line \u001b[1;32m68\u001b[0m\n\u001b[1;33m    except ValueError:\u001b[0m\n\u001b[1;37m    ^\u001b[0m\n\u001b[1;31mIndentationError\u001b[0m\u001b[1;31m:\u001b[0m unindent does not match any outer indentation level\n"
     ]
    }
   ],
   "source": [
    "flight_info  = OrderedDict() \n",
    "            lists=[]\n",
    "\n",
    "            for i in flight_data['legs'].keys():\n",
    "                total_distance =  flight_data['legs'][i].get(\"formattedDistance\",'')\n",
    "                exact_price = flight_data['legs'][i].get('price',{}).get('totalPriceAsDecimal','')\n",
    "\n",
    "                departure_location_airport = flight_data['legs'][i].get('departureLocation',{}).get('airportLongName','')\n",
    "                departure_location_city = flight_data['legs'][i].get('departureLocation',{}).get('airportCity','')\n",
    "                departure_location_airport_code = flight_data['legs'][i].get('departureLocation',{}).get('airportCode','')\n",
    "\n",
    "                arrival_location_airport = flight_data['legs'][i].get('arrivalLocation',{}).get('airportLongName','')\n",
    "                arrival_location_airport_code = flight_data['legs'][i].get('arrivalLocation',{}).get('airportCode','')\n",
    "                arrival_location_city = flight_data['legs'][i].get('arrivalLocation',{}).get('airportCity','')\n",
    "                airline_name = flight_data['legs'][i].get('carrierSummary',{}).get('airlineName','')\n",
    "\n",
    "                no_of_stops = flight_data['legs'][i].get(\"stops\",\"\")\n",
    "                flight_duration = flight_data['legs'][i].get('duration',{})\n",
    "                flight_hour = flight_duration.get('hours','')\n",
    "                flight_minutes = flight_duration.get('minutes','')\n",
    "                flight_days = flight_duration.get('numOfDays','')\n",
    "\n",
    "                if no_of_stops==0:\n",
    "                    stop = \"Nonstop\"\n",
    "                else:\n",
    "                    stop = str(no_of_stops)+' Stop'\n",
    "\n",
    "                total_flight_duration = \"{0} days {1} hours {2} minutes\".format(flight_days,flight_hour,flight_minutes)\n",
    "                departure = departure_location_airport+\", \"+departure_location_city\n",
    "                arrival = arrival_location_airport+\", \"+arrival_location_city\n",
    "                carrier = flight_data['legs'][i].get('timeline',[])[0].get('carrier',{})\n",
    "                plane = carrier.get('plane','')\n",
    "                plane_code = carrier.get('planeCode','')\n",
    "                formatted_price = \"{0:.2f}\".format(exact_price)\n",
    "\n",
    "                if not airline_name:\n",
    "                    airline_name = carrier.get('operatedBy','')\n",
    "\n",
    "                timings = []\n",
    "                for timeline in  flight_data['legs'][i].get('timeline',{}):\n",
    "                    if 'departureAirport' in timeline.keys():\n",
    "                        departure_airport = timeline['departureAirport'].get('longName','')\n",
    "                        departure_time = timeline['departureTime'].get('time','')\n",
    "                        arrival_airport = timeline.get('arrivalAirport',{}).get('longName','')\n",
    "                        arrival_time = timeline.get('arrivalTime',{}).get('time','')\n",
    "                        flight_timing = {\n",
    "                                        'departure_airport':departure_airport,\n",
    "                                        'departure_time':departure_time,\n",
    "                                        'arrival_airport':arrival_airport,\n",
    "                                        'arrival_time':arrival_time\n",
    "                                        }\n",
    "                        timings.append(flight_timing)\n",
    "\n",
    "                    flight_info={'stops':stop,\n",
    "                                'ticket price':formatted_price,\n",
    "                                'departure':departure,\n",
    "                                'arrival':arrival,\n",
    "                                'flight duration':total_flight_duration,\n",
    "                                'airline':airline_name,\n",
    "                                'plane':plane,\n",
    "                                'timings':timings,\n",
    "                                'plane code':plane_code\n",
    "                                }\n",
    "                lists.append(flight_info)\n",
    "            sortedlist = sorted(lists, key=lambda k: k['ticket price'],reverse=False)\n",
    "            return sortedlist\n",
    "\n",
    "            except ValueError:\n",
    "            print (\"Retrying...\")\n",
    "\n",
    "        return {\"error\":\"failed to process the page\",}\n"
   ]
  },
  {
   "cell_type": "code",
   "execution_count": null,
   "metadata": {},
   "outputs": [],
   "source": []
  }
 ],
 "metadata": {
  "kernelspec": {
   "display_name": "Python 3",
   "language": "python",
   "name": "python3"
  },
  "language_info": {
   "codemirror_mode": {
    "name": "ipython",
    "version": 3
   },
   "file_extension": ".py",
   "mimetype": "text/x-python",
   "name": "python",
   "nbconvert_exporter": "python",
   "pygments_lexer": "ipython3",
   "version": "3.7.3"
  }
 },
 "nbformat": 4,
 "nbformat_minor": 2
}
