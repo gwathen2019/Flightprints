{
 "cells": [
  {
   "cell_type": "code",
   "execution_count": 1,
   "metadata": {},
   "outputs": [],
   "source": [
    "#Importing packages\n",
    "import json\n",
    "from lxml import html\n",
    "from selenium import webdriver\n",
    "import pandas as pd\n",
    "import requests\n",
    "import splinter\n",
    "from splinter import Browser"
   ]
  },
  {
   "cell_type": "code",
   "execution_count": 2,
   "metadata": {},
   "outputs": [],
   "source": [
    "driver = webdriver.Chrome('c:/Users/chromedriver.exe')"
   ]
  },
  {
   "cell_type": "code",
   "execution_count": 8,
   "metadata": {},
   "outputs": [],
   "source": [
    "Date = '04/05/2020'\n",
    "Depart_apt = 'bna'\n",
    "Arriv_apt = 'lon'"
   ]
  },
  {
   "cell_type": "code",
   "execution_count": 9,
   "metadata": {},
   "outputs": [],
   "source": [
    "driver.get('https://www.expedia.com/Flights-Search?trip=oneway&leg1=from:' + Depart_apt +',to:' + Arriv_apt + ',departure:' + Date + 'TANYT&passengers=adults:1,children:0,seniors:0,infantinlap:Y&options=cabinclass%3Aeconomy&mode=search&origref=www.expedia.com')"
   ]
  },
  {
   "cell_type": "code",
   "execution_count": 5,
   "metadata": {},
   "outputs": [
    {
     "name": "stdout",
     "output_type": "stream",
     "text": [
      "04/05/2020 JFK LAX American Airlines 7:30am 11:05am 6h 35m (Nonstop) $154\n"
     ]
    }
   ],
   "source": [
    "for i in range(1):\n",
    "    x = '/html/body/div[2]/div[8]/section/div/div[10]/ul'\n",
    "    \n",
    "    result_id_element = driver.find_elements_by_xpath(x + '/li[2]/h3')[0]\n",
    "    result_id = result_id_element.text\n",
    "    \n",
    "    x0 = '/html/body/div[2]/div[8]/section/div/div[10]/ul/li[2]/div[1]/div[1]'\n",
    "    x1 = '/html/body/div[2]/div[8]/section/div/div[10]/ul/li[3]/div[1]/div[1]'\n",
    "    x2 = '/html/body/div[2]/div[8]/section/div/div[10]/ul/li[4]/div[1]/div[1]'\n",
    "    x3 = '/html/body/div[2]/div[8]/section/div/div[10]/ul/li[5]/div[1]/div[1]'\n",
    "    x4 = '/html/body/div[2]/div[8]/section/div/div[10]/ul/li[6]/div[1]/div[1]'\n",
    "    \n",
    "    airline_id_element = driver.find_elements_by_xpath(x0 + '/div[1]/div/div/div/div[1]/div[2]/span')[0]\n",
    "    airline_id = airline_id_element.text\n",
    "    \n",
    "    depart_time_element = driver.find_elements_by_xpath(x0 + '/div[1]/div/div/div/div[1]/div[1]/span/span[1]')[0]\n",
    "    depart_time = depart_time_element.text\n",
    "    \n",
    "    arriv_time_element = driver.find_elements_by_xpath(x0 + '/div[1]/div/div/div/div[1]/div[1]/span/span[4]')[0]\n",
    "    arriv_time = arriv_time_element.text\n",
    "    \n",
    "    duration_element = driver.find_elements_by_xpath(x0 + '/div[1]/div/div/div/div[2]/div[1]/span[1]')[0]\n",
    "    duration = duration_element.text\n",
    "    \n",
    "    no_stops_element = driver.find_elements_by_xpath(x0 + '/div[1]/div/div/div/div[2]/div[1]/span[2]')[0]\n",
    "    no_stops = no_stops_element.text\n",
    "    \n",
    "    depart_arrival_apt_element = driver.find_elements_by_xpath(x0 + '/div[1]/div/div/div/div[2]/div[2]')[0]\n",
    "    depart_arrival_apt = depart_arrival_apt_element.text\n",
    "    \n",
    "    price_element = driver.find_elements_by_xpath(x0 + '/div[2]/div/div[1]/div[1]/span')[0]\n",
    "    price = price_element.text\n",
    "\n",
    "    print(Date, Depart_apt, Arriv_apt, airline_id, depart_time, arriv_time, duration, no_stops, price)\n",
    "    "
   ]
  },
  {
   "cell_type": "code",
   "execution_count": null,
   "metadata": {},
   "outputs": [],
   "source": []
  }
 ],
 "metadata": {
  "kernelspec": {
   "display_name": "Python 3",
   "language": "python",
   "name": "python3"
  },
  "language_info": {
   "codemirror_mode": {
    "name": "ipython",
    "version": 3
   },
   "file_extension": ".py",
   "mimetype": "text/x-python",
   "name": "python",
   "nbconvert_exporter": "python",
   "pygments_lexer": "ipython3",
   "version": "3.7.3"
  }
 },
 "nbformat": 4,
 "nbformat_minor": 2
}
